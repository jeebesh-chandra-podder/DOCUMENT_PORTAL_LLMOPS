{
 "cells": [
  {
   "cell_type": "code",
   "execution_count": 1,
   "id": "91496ba7",
   "metadata": {},
   "outputs": [
    {
     "name": "stdout",
     "output_type": "stream",
     "text": [
      "all ok\n"
     ]
    }
   ],
   "source": [
    "print(\"all ok\")"
   ]
  },
  {
   "cell_type": "code",
   "execution_count": null,
   "id": "aab4a261",
   "metadata": {},
   "outputs": [],
   "source": []
  },
  {
   "cell_type": "code",
   "execution_count": null,
   "id": "25b10417",
   "metadata": {},
   "outputs": [
    {
     "ename": "DocumentPortalException",
     "evalue": "\n            Error in file: [ C:\\Users\\peopl\\AppData\\Local\\Temp\\ipykernel_72812\\4175712944.py ]\n            Line number: [ 25 ]\n            Error message: [ division by zero ]\n            Traceback: [ Traceback (most recent call last):\n  File \"C:\\Users\\peopl\\AppData\\Local\\Temp\\ipykernel_72812\\4175712944.py\", line 25, in <module>\n    a = 1 / 0\nZeroDivisionError: division by zero\n ]\n        ",
     "output_type": "error",
     "traceback": [
      "\u001b[1;31m---------------------------------------------------------------------------\u001b[0m",
      "\u001b[1;31mZeroDivisionError\u001b[0m                         Traceback (most recent call last)",
      "Cell \u001b[1;32mIn[10], line 25\u001b[0m\n\u001b[0;32m     23\u001b[0m \u001b[38;5;28;01mtry\u001b[39;00m:\n\u001b[0;32m     24\u001b[0m     \u001b[38;5;66;03m# Simulating an error\u001b[39;00m\n\u001b[1;32m---> 25\u001b[0m     a \u001b[38;5;241m=\u001b[39m \u001b[38;5;241;43m1\u001b[39;49m\u001b[43m \u001b[49m\u001b[38;5;241;43m/\u001b[39;49m\u001b[43m \u001b[49m\u001b[38;5;241;43m0\u001b[39;49m\n\u001b[0;32m     26\u001b[0m     \u001b[38;5;28mprint\u001b[39m(a)\n",
      "\u001b[1;31mZeroDivisionError\u001b[0m: division by zero",
      "\nDuring handling of the above exception, another exception occurred:\n",
      "\u001b[1;31mDocumentPortalException\u001b[0m                   Traceback (most recent call last)",
      "Cell \u001b[1;32mIn[10], line 31\u001b[0m\n\u001b[0;32m     29\u001b[0m app_exc \u001b[38;5;241m=\u001b[39m DocumentPortalException(e, sys)\n\u001b[0;32m     30\u001b[0m logger\u001b[38;5;241m.\u001b[39merror(app_exc)\n\u001b[1;32m---> 31\u001b[0m \u001b[38;5;28;01mraise\u001b[39;00m app_exc\n",
      "\u001b[1;31mDocumentPortalException\u001b[0m: \n            Error in file: [ C:\\Users\\peopl\\AppData\\Local\\Temp\\ipykernel_72812\\4175712944.py ]\n            Line number: [ 25 ]\n            Error message: [ division by zero ]\n            Traceback: [ Traceback (most recent call last):\n  File \"C:\\Users\\peopl\\AppData\\Local\\Temp\\ipykernel_72812\\4175712944.py\", line 25, in <module>\n    a = 1 / 0\nZeroDivisionError: division by zero\n ]\n        "
     ]
    }
   ],
   "source": [
    "import sys\n",
    "import traceback\n",
    "\n",
    "from logger.custom_logger import CustomLogger\n",
    "logger = CustomLogger().get_logger(__file)\n",
    "\n",
    "class DocumentPortalException(Exception):\n",
    "    \n",
    "    \"\"\" Custom exception class for demonstration purposes.\"\"\"\n",
    "    def __init__(self, error_message:str, error_details:sys):\n",
    "        _,_,exc_tb = error_details.exc_info()\n",
    "        self.file_name = exc_tb.tb_frame.f_code.co_filename\n",
    "        self.lineno = exc_tb.tb_lineno\n",
    "        self.error_message = str(error_message)\n",
    "        self.traceback_str = ''.join(traceback.format_exception(*error_details.exc_info()))\n",
    "\n",
    "    def __str__(self):\n",
    "        return f\"\"\"\n",
    "            Error in file: [ {self.file_name} ]\n",
    "            Line number: [ {self.lineno} ]\n",
    "            Error message: [ {self.error_message} ]\n",
    "            Traceback: [ {self.traceback_str} ]\n",
    "        \"\"\"\n",
    "\n",
    "if __name__ == \"__main__\":\n",
    "    try:\n",
    "        # Simulating an error\n",
    "        a = 1 / 0\n",
    "        print(a)\n",
    "    except Exception as e:     \n",
    "        # Raising custom exception\n",
    "        app_exc = DocumentPortalException(e, sys)\n",
    "        logger.error(app_exc)\n",
    "        raise app_exc"
   ]
  },
  {
   "cell_type": "code",
   "execution_count": null,
   "id": "65b84364",
   "metadata": {},
   "outputs": [
    {
     "ename": "DocumentPortalException",
     "evalue": "\n            Error in file: [ C:\\Users\\peopl\\AppData\\Local\\Temp\\ipykernel_72812\\1353741244.py ]\n            Line number: [ 4 ]\n            Error message: [ division by zero ]\n            Traceback: [ Traceback (most recent call last):\n  File \"C:\\Users\\peopl\\AppData\\Local\\Temp\\ipykernel_72812\\1353741244.py\", line 4, in <module>\n    a = 1 / 0\nZeroDivisionError: division by zero\n ]\n        ",
     "output_type": "error",
     "traceback": [
      "\u001b[1;31m---------------------------------------------------------------------------\u001b[0m",
      "\u001b[1;31mZeroDivisionError\u001b[0m                         Traceback (most recent call last)",
      "Cell \u001b[1;32mIn[7], line 4\u001b[0m\n\u001b[0;32m      2\u001b[0m \u001b[38;5;28;01mtry\u001b[39;00m:\n\u001b[0;32m      3\u001b[0m     \u001b[38;5;66;03m# Simulating an error\u001b[39;00m\n\u001b[1;32m----> 4\u001b[0m     a \u001b[38;5;241m=\u001b[39m \u001b[38;5;241;43m1\u001b[39;49m\u001b[43m \u001b[49m\u001b[38;5;241;43m/\u001b[39;49m\u001b[43m \u001b[49m\u001b[38;5;241;43m0\u001b[39;49m\n\u001b[0;32m      5\u001b[0m     \u001b[38;5;28mprint\u001b[39m(a)\n",
      "\u001b[1;31mZeroDivisionError\u001b[0m: division by zero",
      "\nDuring handling of the above exception, another exception occurred:\n",
      "\u001b[1;31mDocumentPortalException\u001b[0m                   Traceback (most recent call last)",
      "Cell \u001b[1;32mIn[7], line 9\u001b[0m\n\u001b[0;32m      6\u001b[0m \u001b[38;5;28;01mexcept\u001b[39;00m \u001b[38;5;167;01mException\u001b[39;00m \u001b[38;5;28;01mas\u001b[39;00m e:     \n\u001b[0;32m      7\u001b[0m     \u001b[38;5;66;03m# Raising custom exception\u001b[39;00m\n\u001b[0;32m      8\u001b[0m     app_exc \u001b[38;5;241m=\u001b[39m DocumentPortalException(e, sys)\n\u001b[1;32m----> 9\u001b[0m     \u001b[38;5;28;01mraise\u001b[39;00m app_exc\n",
      "\u001b[1;31mDocumentPortalException\u001b[0m: \n            Error in file: [ C:\\Users\\peopl\\AppData\\Local\\Temp\\ipykernel_72812\\1353741244.py ]\n            Line number: [ 4 ]\n            Error message: [ division by zero ]\n            Traceback: [ Traceback (most recent call last):\n  File \"C:\\Users\\peopl\\AppData\\Local\\Temp\\ipykernel_72812\\1353741244.py\", line 4, in <module>\n    a = 1 / 0\nZeroDivisionError: division by zero\n ]\n        "
     ]
    }
   ],
   "source": []
  },
  {
   "cell_type": "code",
   "execution_count": null,
   "id": "9748ce97",
   "metadata": {},
   "outputs": [],
   "source": []
  }
 ],
 "metadata": {
  "kernelspec": {
   "display_name": "Python 3",
   "language": "python",
   "name": "python3"
  },
  "language_info": {
   "codemirror_mode": {
    "name": "ipython",
    "version": 3
   },
   "file_extension": ".py",
   "mimetype": "text/x-python",
   "name": "python",
   "nbconvert_exporter": "python",
   "pygments_lexer": "ipython3",
   "version": "3.10.18"
  }
 },
 "nbformat": 4,
 "nbformat_minor": 5
}
